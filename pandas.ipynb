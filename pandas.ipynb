{
  "nbformat": 4,
  "nbformat_minor": 0,
  "metadata": {
    "colab": {
      "name": "pandas",
      "provenance": [],
      "collapsed_sections": [],
      "authorship_tag": "ABX9TyM5iP8p+72L6yZcUaPcPqxJ",
      "include_colab_link": true
    },
    "kernelspec": {
      "name": "python3",
      "display_name": "Python 3"
    },
    "language_info": {
      "name": "python"
    }
  },
  "cells": [
    {
      "cell_type": "markdown",
      "metadata": {
        "id": "view-in-github",
        "colab_type": "text"
      },
      "source": [
        "<a href=\"https://colab.research.google.com/github/sirisha1398/PYTHON-U/blob/module-3/pandas.ipynb\" target=\"_parent\"><img src=\"https://colab.research.google.com/assets/colab-badge.svg\" alt=\"Open In Colab\"/></a>"
      ]
    },
    {
      "cell_type": "code",
      "execution_count": null,
      "metadata": {
        "colab": {
          "base_uri": "https://localhost:8080/"
        },
        "id": "2BGi72I0k87X",
        "outputId": "5c683c9e-0ff1-45c7-f7b4-95b69b51a102"
      },
      "outputs": [
        {
          "output_type": "stream",
          "name": "stdout",
          "text": [
            "    cars  passings\n",
            "0    BMW         3\n",
            "1  Volvo         7\n",
            "2   Ford         2\n",
            "3   Audi         5\n"
          ]
        }
      ],
      "source": [
        "import pandas as pd\n",
        "A = {\n",
        "  'cars': [\"BMW\", \"Volvo\", \"Ford\", \"Audi\"],\n",
        "  'passings': [3, 7, 2, 5]\n",
        "}\n",
        "x = pd.DataFrame(A)\n",
        "print(x)\n"
      ]
    },
    {
      "cell_type": "code",
      "source": [
        "import pandas\n",
        "pandas.__version__"
      ],
      "metadata": {
        "colab": {
          "base_uri": "https://localhost:8080/",
          "height": 35
        },
        "id": "bu5Sv9C3pv44",
        "outputId": "8b1d1f8b-325a-4eb9-cdf3-7eb6223fce5e"
      },
      "execution_count": null,
      "outputs": [
        {
          "output_type": "execute_result",
          "data": {
            "text/plain": [
              "'1.3.5'"
            ],
            "application/vnd.google.colaboratory.intrinsic+json": {
              "type": "string"
            }
          },
          "metadata": {},
          "execution_count": 10
        }
      ]
    },
    {
      "cell_type": "code",
      "source": [
        "import pandas as pd\n",
        "A = {\n",
        "  'menu': [\"veg\", \"nonveg\", \"chinese\"],\n",
        "  'hospitals': [\"apollo\", \"NRI\", \"AMG\"],\n",
        "  'genres': [\"comedy\", \"horror\", \"scientific\"]\n",
        "}\n",
        "x = pd.DataFrame(A)\n",
        "print(x)\n"
      ],
      "metadata": {
        "colab": {
          "base_uri": "https://localhost:8080/"
        },
        "id": "O8Lmc64kqYgR",
        "outputId": "ff7be4ed-e341-4a3d-a83e-f174953f9151"
      },
      "execution_count": null,
      "outputs": [
        {
          "output_type": "stream",
          "name": "stdout",
          "text": [
            "      menu hospitals      genres\n",
            "0      veg    apollo      comedy\n",
            "1   nonveg       NRI      horror\n",
            "2  chinese       AMG  scientific\n"
          ]
        }
      ]
    },
    {
      "cell_type": "code",
      "source": [
        "##series\n",
        "\n",
        "import pandas as pd\n",
        "A = [9, 8, 7]\n",
        "x = pd.DataFrame(A)\n",
        "print (x)"
      ],
      "metadata": {
        "colab": {
          "base_uri": "https://localhost:8080/"
        },
        "id": "__RKSXH2ww39",
        "outputId": "ba4af759-8af3-4fa1-826d-815d167282f8"
      },
      "execution_count": null,
      "outputs": [
        {
          "output_type": "stream",
          "name": "stdout",
          "text": [
            "   0\n",
            "0  9\n",
            "1  8\n",
            "2  7\n"
          ]
        }
      ]
    },
    {
      "cell_type": "code",
      "source": [
        "import pandas as pd\n",
        "A = [9, 8, 7]\n",
        "x = pd.DataFrame(A)\n",
        "print (x[0])"
      ],
      "metadata": {
        "colab": {
          "base_uri": "https://localhost:8080/"
        },
        "id": "Q2-zw_DixeW0",
        "outputId": "091dfe6c-ae27-4c89-a492-a1877bab3500"
      },
      "execution_count": null,
      "outputs": [
        {
          "output_type": "stream",
          "name": "stdout",
          "text": [
            "0    9\n",
            "1    8\n",
            "2    7\n",
            "Name: 0, dtype: int64\n"
          ]
        }
      ]
    },
    {
      "cell_type": "code",
      "source": [
        "import pandas as nsk\n",
        "A = [9, 8, 7, 6, 5, 4]\n",
        "x = nsk.DataFrame(A)\n",
        "print (x)"
      ],
      "metadata": {
        "colab": {
          "base_uri": "https://localhost:8080/"
        },
        "id": "vllzcHAM7OoI",
        "outputId": "2383aa60-e1eb-4991-99d1-3cceb95f8bfb"
      },
      "execution_count": null,
      "outputs": [
        {
          "output_type": "stream",
          "name": "stdout",
          "text": [
            "   0\n",
            "0  9\n",
            "1  8\n",
            "2  7\n",
            "3  6\n",
            "4  5\n",
            "5  4\n"
          ]
        }
      ]
    },
    {
      "cell_type": "code",
      "source": [
        "##own label\n",
        "\n",
        "import pandas as pd\n",
        "a = [9, 8, 7]\n",
        "r = pd.Series(a, index = [\"x\", \"y\", \"z\"])\n",
        "print(r)"
      ],
      "metadata": {
        "colab": {
          "base_uri": "https://localhost:8080/"
        },
        "id": "ncd5MnmRx-zz",
        "outputId": "86eac7f5-1ca2-4e37-da86-bdaec2c878da"
      },
      "execution_count": null,
      "outputs": [
        {
          "output_type": "stream",
          "name": "stdout",
          "text": [
            "x    9\n",
            "y    8\n",
            "z    7\n",
            "dtype: int64\n"
          ]
        }
      ]
    },
    {
      "cell_type": "code",
      "source": [
        "import pandas as pd\n",
        "a = [5,6,7]\n",
        "r = pd.Series(a, index = [\"x\", \"y\", \"z\"]) \n",
        "print(r[\"z\"])"
      ],
      "metadata": {
        "colab": {
          "base_uri": "https://localhost:8080/"
        },
        "id": "8vbE2Y9CzXfj",
        "outputId": "607cb5ba-cdc6-453c-bbbe-f24da2a254b3"
      },
      "execution_count": null,
      "outputs": [
        {
          "output_type": "stream",
          "name": "stdout",
          "text": [
            "7\n"
          ]
        }
      ]
    },
    {
      "cell_type": "code",
      "source": [
        "import pandas as pd\n",
        "calories = {\"day1\": 420, \"day2\": 380, \"day3\": 390}\n",
        "X = pd.Series(calories)\n",
        "print(X)"
      ],
      "metadata": {
        "colab": {
          "base_uri": "https://localhost:8080/"
        },
        "id": "XaDG1-_S1WRy",
        "outputId": "f64d051f-92ff-42cb-a62d-311a720d3a73"
      },
      "execution_count": null,
      "outputs": [
        {
          "output_type": "stream",
          "name": "stdout",
          "text": [
            "day1    420\n",
            "day2    380\n",
            "day3    390\n",
            "dtype: int64\n"
          ]
        }
      ]
    },
    {
      "cell_type": "code",
      "source": [
        "import pandas as pd\n",
        "calories = {\"day1\": 420, \"day2\": 380, \"day3\": 390}\n",
        "X = pd.Series(calories, index = [\"day2\", \"day3\"])\n",
        "print(X)"
      ],
      "metadata": {
        "colab": {
          "base_uri": "https://localhost:8080/"
        },
        "id": "2VPA7qDX1jQR",
        "outputId": "45cf9c3b-bd4a-4456-f95d-97cd1f1fe7f0"
      },
      "execution_count": null,
      "outputs": [
        {
          "output_type": "stream",
          "name": "stdout",
          "text": [
            "day2    380\n",
            "day3    390\n",
            "dtype: int64\n"
          ]
        }
      ]
    },
    {
      "cell_type": "code",
      "source": [
        "import pandas as pd\n",
        "calories = {\"day1\": 420, \"day2\": 380, \"day3\": 390}\n",
        "X = pd.Series(calories)\n",
        "print(X[\"day2\"])"
      ],
      "metadata": {
        "colab": {
          "base_uri": "https://localhost:8080/"
        },
        "id": "tDVtWI0Q1Cxr",
        "outputId": "001b6dd2-a150-4b2a-be84-7e3f00f22f3e"
      },
      "execution_count": null,
      "outputs": [
        {
          "output_type": "stream",
          "name": "stdout",
          "text": [
            "380\n"
          ]
        }
      ]
    },
    {
      "cell_type": "code",
      "source": [
        "import pandas as pd\n",
        "A = {\n",
        "  \"calories\": [420, 380, 390],\n",
        "  \"duration\": [50, 40, 45]\n",
        "}\n",
        "x = pd.DataFrame(A)\n",
        "print(x.loc[1])\n"
      ],
      "metadata": {
        "colab": {
          "base_uri": "https://localhost:8080/"
        },
        "id": "dj7aidu53LdJ",
        "outputId": "a22fad30-f80f-456e-942a-59895037db69"
      },
      "execution_count": null,
      "outputs": [
        {
          "output_type": "stream",
          "name": "stdout",
          "text": [
            "calories    380\n",
            "duration     40\n",
            "Name: 1, dtype: int64\n"
          ]
        }
      ]
    }
  ]
}
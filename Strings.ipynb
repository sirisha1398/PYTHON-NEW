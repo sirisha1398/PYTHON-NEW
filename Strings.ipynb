{
  "nbformat": 4,
  "nbformat_minor": 0,
  "metadata": {
    "colab": {
      "name": "Strings",
      "provenance": [],
      "collapsed_sections": [],
      "authorship_tag": "ABX9TyPyezUdJAfXr4iSX5Dk48el",
      "include_colab_link": true
    },
    "kernelspec": {
      "name": "python3",
      "display_name": "Python 3"
    },
    "language_info": {
      "name": "python"
    }
  },
  "cells": [
    {
      "cell_type": "markdown",
      "metadata": {
        "id": "view-in-github",
        "colab_type": "text"
      },
      "source": [
        "<a href=\"https://colab.research.google.com/github/sirisha1398/PYTHON-U/blob/module-2/Strings.ipynb\" target=\"_parent\"><img src=\"https://colab.research.google.com/assets/colab-badge.svg\" alt=\"Open In Colab\"/></a>"
      ]
    },
    {
      "cell_type": "code",
      "source": [
        "a= \"siriii\"\n",
        "print(a)\n",
        "print(type(a))\n",
        "print(a[4])"
      ],
      "metadata": {
        "colab": {
          "base_uri": "https://localhost:8080/"
        },
        "id": "gVilmnYg6iLW",
        "outputId": "1ce973e1-172e-44aa-a73f-2980d368f58c"
      },
      "execution_count": null,
      "outputs": [
        {
          "output_type": "stream",
          "name": "stdout",
          "text": [
            "siriii\n",
            "<class 'str'>\n",
            "i\n"
          ]
        }
      ]
    },
    {
      "cell_type": "code",
      "source": [
        "##Length of the string:\n",
        "a= \"hello string\"\n",
        "print(len (a))"
      ],
      "metadata": {
        "colab": {
          "base_uri": "https://localhost:8080/"
        },
        "id": "fiyeygvn7hoH",
        "outputId": "1b5733bc-17fe-476c-a418-8516c99ae912"
      },
      "execution_count": null,
      "outputs": [
        {
          "output_type": "stream",
          "name": "stdout",
          "text": [
            "12\n"
          ]
        }
      ]
    },
    {
      "cell_type": "code",
      "source": [
        "a =\"RRR movie has been releaed\"\n",
        "print(\"RRR in a\")"
      ],
      "metadata": {
        "colab": {
          "base_uri": "https://localhost:8080/"
        },
        "id": "1_s1Ygnq8A3_",
        "outputId": "79c1d058-c98e-45a3-d390-927be166d2fa"
      },
      "execution_count": null,
      "outputs": [
        {
          "output_type": "stream",
          "name": "stdout",
          "text": [
            "RRR in a\n"
          ]
        }
      ]
    },
    {
      "cell_type": "code",
      "source": [
        "a =\"RRR movie has been releaed\"\n",
        "print(\"RRR is not in a\")"
      ],
      "metadata": {
        "colab": {
          "base_uri": "https://localhost:8080/"
        },
        "id": "ckB-jdwx8ka_",
        "outputId": "fd974fae-01ff-461b-9647-7d2af3d7bf7c"
      },
      "execution_count": null,
      "outputs": [
        {
          "output_type": "stream",
          "name": "stdout",
          "text": [
            "RRR is not in a\n"
          ]
        }
      ]
    },
    {
      "cell_type": "code",
      "source": [
        "a =\"RRR movie has been releaed\"\n",
        "print(a[2:5])"
      ],
      "metadata": {
        "colab": {
          "base_uri": "https://localhost:8080/"
        },
        "id": "d-zPyv8X9L0I",
        "outputId": "65338571-50d3-438e-8781-a0227579a66d"
      },
      "execution_count": null,
      "outputs": [
        {
          "output_type": "stream",
          "name": "stdout",
          "text": [
            "R m\n"
          ]
        }
      ]
    }
  ]
}
{
  "nbformat": 4,
  "nbformat_minor": 0,
  "metadata": {
    "colab": {
      "name": "SQLite",
      "provenance": [],
      "authorship_tag": "ABX9TyNvh09dB63XXExNiXPyGhTU",
      "include_colab_link": true
    },
    "kernelspec": {
      "name": "python3",
      "display_name": "Python 3"
    },
    "language_info": {
      "name": "python"
    }
  },
  "cells": [
    {
      "cell_type": "markdown",
      "metadata": {
        "id": "view-in-github",
        "colab_type": "text"
      },
      "source": [
        "<a href=\"https://colab.research.google.com/github/sirisha1398/PYTHON-U/blob/module-4/SQLite.ipynb\" target=\"_parent\"><img src=\"https://colab.research.google.com/assets/colab-badge.svg\" alt=\"Open In Colab\"/></a>"
      ]
    },
    {
      "cell_type": "code",
      "execution_count": 3,
      "metadata": {
        "colab": {
          "base_uri": "https://localhost:8080/"
        },
        "id": "p1_GXUG1_ezq",
        "outputId": "8932b341-cc0f-4f19-f145-381089a4dbb0"
      },
      "outputs": [
        {
          "output_type": "stream",
          "name": "stdout",
          "text": [
            "Yeah !  found \n"
          ]
        }
      ],
      "source": [
        "# import module\n",
        "from urllib.request import urlopen\n",
        "from urllib.error import *\n",
        " \n",
        "try:\n",
        "    html = urlopen(\"https://www.geeksforgeeks.org/\")\n",
        "     \n",
        "except HTTPError as e:\n",
        "    print(\"HTTP error\", e)\n",
        "     \n",
        "except URLError as e:\n",
        "    print(\"Opps ! Page not found!\", e)\n",
        " \n",
        "else:\n",
        "    print('Yeah !  found ')"
      ]
    },
    {
      "cell_type": "code",
      "source": [
        "def string_test(s):\n",
        "    UPPER_CASE = 0\n",
        "    LOWER_CASE =0\n",
        "    for c in s:\n",
        "        if c.isupper():\n",
        "           UPPER_CASE+=1\n",
        "        elif c.islower():\n",
        "           LOWER_CASE+=1\n",
        "        else:\n",
        "           pass\n",
        "    print (\"Original String : \", s)\n",
        "    print (\"No. of Upper case characters : \", UPPER_CASE)\n",
        "    print (\"No. of Lower case Characters : \", LOWER_CASE)\n",
        "\n",
        "str=input('Enter a string:')\n",
        "string_test(str)"
      ],
      "metadata": {
        "colab": {
          "base_uri": "https://localhost:8080/"
        },
        "id": "KnaUiCruATks",
        "outputId": "70b07863-3518-4b9e-d535-9fe42581eca5"
      },
      "execution_count": 5,
      "outputs": [
        {
          "output_type": "stream",
          "name": "stdout",
          "text": [
            "Enter a string:educATION IS importaNT\n",
            "Original String :  educATION IS importaNT\n",
            "No. of Upper case characters :  9\n",
            "No. of Lower case Characters :  11\n"
          ]
        }
      ]
    },
    {
      "cell_type": "code",
      "source": [
        "def str_replacement():\n",
        "  str1=input(\"Enter a string:\")\n",
        "  str2=input('Enter the substring :')\n",
        "  str3=input('Enter string to be replaced:')\n",
        "  res = str1.replace(str2, str3, 2)\n",
        "  print(res)\n",
        "\n",
        "str_replacement()"
      ],
      "metadata": {
        "colab": {
          "base_uri": "https://localhost:8080/"
        },
        "id": "zc2mBOz0AoZz",
        "outputId": "040f04ff-e055-4f3b-c04a-146d0e5fc7f1"
      },
      "execution_count": 8,
      "outputs": [
        {
          "output_type": "stream",
          "name": "stdout",
          "text": [
            "Enter a string:SIRIsha\n",
            "Enter the substring :iris\n",
            "Enter string to be replaced:reee\n",
            "SIRIsha\n"
          ]
        }
      ]
    }
  ]
}